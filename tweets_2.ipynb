{
 "cells": [
  {
   "cell_type": "code",
   "execution_count": 8,
   "metadata": {
    "collapsed": true
   },
   "outputs": [],
   "source": [
    "import pandas as pd\n",
    "import numpy as np\n",
    "import string\n",
    "from nltk.corpus import stopwords\n",
    "from sklearn.cross_validation import train_test_split \n",
    "from sklearn.feature_extraction.text import CountVectorizer\n",
    "from sklearn.ensemble import RandomForestClassifier\n",
    "from sklearn.metrics import confusion_matrix, classification_report\n",
    "from xgboost import XGBClassifier\n",
    "from sklearn.svm import SVC, NuSVC, LinearSVC\n",
    "from sklearn.ensemble import VotingClassifier\n",
    "from nltk.stem import PorterStemmer"
   ]
  },
  {
   "cell_type": "code",
   "execution_count": 19,
   "metadata": {
    "collapsed": true
   },
   "outputs": [],
   "source": [
    "# pd.read_csv?"
   ]
  },
  {
   "cell_type": "code",
   "execution_count": 20,
   "metadata": {
    "collapsed": true
   },
   "outputs": [],
   "source": [
    "tweets = pd.read_csv('~/Datasets/tweets.csv', encoding='utf-8')"
   ]
  },
  {
   "cell_type": "code",
   "execution_count": 21,
   "metadata": {
    "collapsed": true
   },
   "outputs": [],
   "source": [
    "twr = tweets[tweets['is_retweet'] == False]\n",
    "twr = twr[['handle', 'text', 'time']]\n",
    "twr['is_trump'] = twr['handle'].apply(lambda x: 1 if x==\"realDonaldTrump\" else 0)"
   ]
  },
  {
   "cell_type": "markdown",
   "metadata": {},
   "source": [
    "# Preprocessing: punctuation, stopwords, stemming"
   ]
  },
  {
   "cell_type": "code",
   "execution_count": 22,
   "metadata": {
    "collapsed": true
   },
   "outputs": [],
   "source": [
    "stemmer = PorterStemmer()\n",
    "\n",
    "def remove_punctuation(text):\n",
    "    lower = text.lower()\n",
    "    exclude = set(string.punctuation)\n",
    "    return \"\".join(ch for ch in lower if ch not in exclude)\n",
    "\n",
    "def remove_stopwords(x):\n",
    "    lower = x.lower()\n",
    "    split = lower.split(\" \")\n",
    "    final = ''\n",
    "    for i in split:\n",
    "        if i not in stopwords.words('english'):\n",
    "            final += (i + \" \")\n",
    "    return final\n",
    "\n",
    "def split_and_stem(string):\n",
    "    string = string.split(' ')\n",
    "    temp = \"\"\n",
    "    for i in string:\n",
    "        temp += (stemmer.stem(i) + \" \")\n",
    "    return temp"
   ]
  },
  {
   "cell_type": "code",
   "execution_count": 23,
   "metadata": {
    "collapsed": true,
    "scrolled": true
   },
   "outputs": [],
   "source": [
    "twr['processed_text'] = twr['text'].apply(remove_punctuation)\n",
    "twr['processed_text'] = twr['processed_text'].apply(remove_stopwords)"
   ]
  },
  {
   "cell_type": "code",
   "execution_count": 24,
   "metadata": {
    "collapsed": true
   },
   "outputs": [],
   "source": [
    "twr['processed_text'] = twr['processed_text'].apply(split_and_stem)"
   ]
  },
  {
   "cell_type": "code",
   "execution_count": 25,
   "metadata": {
    "scrolled": true
   },
   "outputs": [
    {
     "data": {
      "text/html": [
       "<div>\n",
       "<table border=\"1\" class=\"dataframe\">\n",
       "  <thead>\n",
       "    <tr style=\"text-align: right;\">\n",
       "      <th></th>\n",
       "      <th>handle</th>\n",
       "      <th>text</th>\n",
       "      <th>time</th>\n",
       "      <th>is_trump</th>\n",
       "      <th>processed_text</th>\n",
       "    </tr>\n",
       "  </thead>\n",
       "  <tbody>\n",
       "    <tr>\n",
       "      <th>0</th>\n",
       "      <td>HillaryClinton</td>\n",
       "      <td>The question in this election: Who can put the...</td>\n",
       "      <td>2016-09-28T00:22:34</td>\n",
       "      <td>0</td>\n",
       "      <td>question elect put plan action make life bette...</td>\n",
       "    </tr>\n",
       "    <tr>\n",
       "      <th>3</th>\n",
       "      <td>HillaryClinton</td>\n",
       "      <td>If we stand together, there's nothing we can't...</td>\n",
       "      <td>2016-09-27T23:08:41</td>\n",
       "      <td>0</td>\n",
       "      <td>stand togeth there noth cant \\n\\nmake sure you...</td>\n",
       "    </tr>\n",
       "    <tr>\n",
       "      <th>4</th>\n",
       "      <td>HillaryClinton</td>\n",
       "      <td>Both candidates were asked about how they'd co...</td>\n",
       "      <td>2016-09-27T22:30:27</td>\n",
       "      <td>0</td>\n",
       "      <td>candid ask theyd confront racial injustic one ...</td>\n",
       "    </tr>\n",
       "    <tr>\n",
       "      <th>5</th>\n",
       "      <td>realDonaldTrump</td>\n",
       "      <td>Join me for a 3pm rally - tomorrow at the Mid-...</td>\n",
       "      <td>2016-09-27T22:13:24</td>\n",
       "      <td>1</td>\n",
       "      <td>join 3pm ralli  tomorrow midamerica center cou...</td>\n",
       "    </tr>\n",
       "    <tr>\n",
       "      <th>6</th>\n",
       "      <td>HillaryClinton</td>\n",
       "      <td>This election is too important to sit out. Go ...</td>\n",
       "      <td>2016-09-27T21:35:28</td>\n",
       "      <td>0</td>\n",
       "      <td>elect import sit go httpstcottgeqxnqym make su...</td>\n",
       "    </tr>\n",
       "  </tbody>\n",
       "</table>\n",
       "</div>"
      ],
      "text/plain": [
       "            handle                                               text  \\\n",
       "0   HillaryClinton  The question in this election: Who can put the...   \n",
       "3   HillaryClinton  If we stand together, there's nothing we can't...   \n",
       "4   HillaryClinton  Both candidates were asked about how they'd co...   \n",
       "5  realDonaldTrump  Join me for a 3pm rally - tomorrow at the Mid-...   \n",
       "6   HillaryClinton  This election is too important to sit out. Go ...   \n",
       "\n",
       "                  time  is_trump  \\\n",
       "0  2016-09-28T00:22:34         0   \n",
       "3  2016-09-27T23:08:41         0   \n",
       "4  2016-09-27T22:30:27         0   \n",
       "5  2016-09-27T22:13:24         1   \n",
       "6  2016-09-27T21:35:28         0   \n",
       "\n",
       "                                      processed_text  \n",
       "0  question elect put plan action make life bette...  \n",
       "3  stand togeth there noth cant \\n\\nmake sure you...  \n",
       "4  candid ask theyd confront racial injustic one ...  \n",
       "5  join 3pm ralli  tomorrow midamerica center cou...  \n",
       "6  elect import sit go httpstcottgeqxnqym make su...  "
      ]
     },
     "execution_count": 25,
     "metadata": {},
     "output_type": "execute_result"
    }
   ],
   "source": [
    "twr.head()"
   ]
  },
  {
   "cell_type": "markdown",
   "metadata": {},
   "source": [
    "## Defining, x + y, TTS"
   ]
  },
  {
   "cell_type": "code",
   "execution_count": 26,
   "metadata": {
    "collapsed": true
   },
   "outputs": [],
   "source": [
    "x = twr['processed_text']\n",
    "y = twr['is_trump']\n",
    "x_train, x_test, y_train, y_test = train_test_split(x,y)"
   ]
  },
  {
   "cell_type": "markdown",
   "metadata": {},
   "source": [
    "## Count Vectorizer"
   ]
  },
  {
   "cell_type": "code",
   "execution_count": 27,
   "metadata": {
    "collapsed": true
   },
   "outputs": [],
   "source": [
    "cv = CountVectorizer()"
   ]
  },
  {
   "cell_type": "code",
   "execution_count": 28,
   "metadata": {
    "collapsed": true
   },
   "outputs": [],
   "source": [
    "df_train = pd.DataFrame(cv.fit_transform(x_train).todense(), columns=cv.get_feature_names())\n",
    "df_test = pd.DataFrame(cv.transform(x_test).todense(), columns=cv.get_feature_names())"
   ]
  },
  {
   "cell_type": "markdown",
   "metadata": {},
   "source": [
    "# Modeling"
   ]
  },
  {
   "cell_type": "code",
   "execution_count": 34,
   "metadata": {
    "collapsed": true
   },
   "outputs": [],
   "source": [
    "rf = RandomForestClassifier(min_samples_leaf=2)\n",
    "\n",
    "linsvc = LinearSVC()"
   ]
  },
  {
   "cell_type": "code",
   "execution_count": 30,
   "metadata": {
    "collapsed": true
   },
   "outputs": [],
   "source": [
    "def run_model(x_train, y_train, x_test, y_test, model):\n",
    "    model.fit(x_train, y_train)\n",
    "    print \"Base model score: \" + str(np.mean(y_test))[:6]\n",
    "    print \"Training set score: \", str(model.score(x_train, y_train))[:6]\n",
    "    print \"Test set score: \", str(model.score(x_test, y_test))[:6]\n",
    "    predictions = model.predict(x_test)\n",
    "    print \"\\nConfusion Matrix:\\n\", pd.DataFrame(confusion_matrix(y_test, predictions), \n",
    "                                              columns=['predicted_0', 'predicted_1'], index=['is_0', 'is_1'])\n",
    "    print \"\\nClassification Report:\\n\",classification_report(y_test, predictions)"
   ]
  },
  {
   "cell_type": "code",
   "execution_count": 38,
   "metadata": {},
   "outputs": [
    {
     "name": "stdout",
     "output_type": "stream",
     "text": [
      "Base model score: 0.5471\n",
      "Training set score:  0.9270\n",
      "Test set score:  0.8770\n",
      "\n",
      "Confusion Matrix:\n",
      "      predicted_0  predicted_1\n",
      "is_0          570           78\n",
      "is_1           98          685\n",
      "\n",
      "Classification Report:\n",
      "             precision    recall  f1-score   support\n",
      "\n",
      "          0       0.85      0.88      0.87       648\n",
      "          1       0.90      0.87      0.89       783\n",
      "\n",
      "avg / total       0.88      0.88      0.88      1431\n",
      "\n"
     ]
    }
   ],
   "source": [
    "run_model(df_train, y_train, df_test, y_test, rf)"
   ]
  },
  {
   "cell_type": "code",
   "execution_count": 39,
   "metadata": {},
   "outputs": [
    {
     "name": "stdout",
     "output_type": "stream",
     "text": [
      "Base model score: 0.5471\n",
      "Training set score:  0.9997\n",
      "Test set score:  0.9147\n",
      "\n",
      "Confusion Matrix:\n",
      "      predicted_0  predicted_1\n",
      "is_0          600           48\n",
      "is_1           74          709\n",
      "\n",
      "Classification Report:\n",
      "             precision    recall  f1-score   support\n",
      "\n",
      "          0       0.89      0.93      0.91       648\n",
      "          1       0.94      0.91      0.92       783\n",
      "\n",
      "avg / total       0.92      0.91      0.91      1431\n",
      "\n"
     ]
    }
   ],
   "source": [
    "run_model(df_train, y_train, df_test, y_test, linsvc)"
   ]
  },
  {
   "cell_type": "code",
   "execution_count": null,
   "metadata": {
    "collapsed": true
   },
   "outputs": [],
   "source": []
  }
 ],
 "metadata": {
  "anaconda-cloud": {},
  "kernelspec": {
   "display_name": "Python [Root]",
   "language": "python",
   "name": "Python [Root]"
  },
  "language_info": {
   "codemirror_mode": {
    "name": "ipython",
    "version": 2
   },
   "file_extension": ".py",
   "mimetype": "text/x-python",
   "name": "python",
   "nbconvert_exporter": "python",
   "pygments_lexer": "ipython2",
   "version": "2.7.12"
  }
 },
 "nbformat": 4,
 "nbformat_minor": 2
}
