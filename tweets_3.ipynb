{
 "cells": [
  {
   "cell_type": "code",
   "execution_count": 47,
   "metadata": {},
   "outputs": [],
   "source": [
    "import pandas as pd\n",
    "import numpy as np\n",
    "import string\n",
    "from nltk.corpus import stopwords\n",
    "from sklearn.cross_validation import train_test_split \n",
    "from sklearn.feature_extraction.text import CountVectorizer\n",
    "from sklearn.ensemble import RandomForestClassifier, ExtraTreesClassifier, AdaBoostClassifier\n",
    "from sklearn.metrics import confusion_matrix, classification_report\n",
    "from xgboost import XGBClassifier\n",
    "from sklearn.svm import SVC, NuSVC, LinearSVC\n",
    "from sklearn.ensemble import VotingClassifier\n",
    "from nltk.stem import PorterStemmer\n",
    "from sklearn.feature_extraction.text import TfidfVectorizer\n",
    "\n"
   ]
  },
  {
   "cell_type": "code",
   "execution_count": 48,
   "metadata": {
    "collapsed": true
   },
   "outputs": [],
   "source": [
    "tweets = pd.read_csv('~/Datasets/tweets.csv', encoding='utf-8')"
   ]
  },
  {
   "cell_type": "code",
   "execution_count": 49,
   "metadata": {},
   "outputs": [
    {
     "data": {
      "text/html": [
       "<div>\n",
       "<table border=\"1\" class=\"dataframe\">\n",
       "  <thead>\n",
       "    <tr style=\"text-align: right;\">\n",
       "      <th></th>\n",
       "      <th>id</th>\n",
       "      <th>handle</th>\n",
       "      <th>text</th>\n",
       "      <th>is_retweet</th>\n",
       "      <th>original_author</th>\n",
       "      <th>time</th>\n",
       "      <th>in_reply_to_screen_name</th>\n",
       "      <th>in_reply_to_status_id</th>\n",
       "      <th>in_reply_to_user_id</th>\n",
       "      <th>is_quote_status</th>\n",
       "      <th>...</th>\n",
       "      <th>place_type</th>\n",
       "      <th>place_country_code</th>\n",
       "      <th>place_country</th>\n",
       "      <th>place_contained_within</th>\n",
       "      <th>place_attributes</th>\n",
       "      <th>place_bounding_box</th>\n",
       "      <th>source_url</th>\n",
       "      <th>truncated</th>\n",
       "      <th>entities</th>\n",
       "      <th>extended_entities</th>\n",
       "    </tr>\n",
       "  </thead>\n",
       "  <tbody>\n",
       "    <tr>\n",
       "      <th>0</th>\n",
       "      <td>780925634159796224</td>\n",
       "      <td>HillaryClinton</td>\n",
       "      <td>The question in this election: Who can put the...</td>\n",
       "      <td>False</td>\n",
       "      <td>NaN</td>\n",
       "      <td>2016-09-28T00:22:34</td>\n",
       "      <td>NaN</td>\n",
       "      <td>NaN</td>\n",
       "      <td>NaN</td>\n",
       "      <td>False</td>\n",
       "      <td>...</td>\n",
       "      <td>NaN</td>\n",
       "      <td>NaN</td>\n",
       "      <td>NaN</td>\n",
       "      <td>NaN</td>\n",
       "      <td>NaN</td>\n",
       "      <td>NaN</td>\n",
       "      <td>https://studio.twitter.com</td>\n",
       "      <td>False</td>\n",
       "      <td>{'media': [{'display_url': 'pic.twitter.com/Xr...</td>\n",
       "      <td>{'media': [{'display_url': 'pic.twitter.com/Xr...</td>\n",
       "    </tr>\n",
       "  </tbody>\n",
       "</table>\n",
       "<p>1 rows × 28 columns</p>\n",
       "</div>"
      ],
      "text/plain": [
       "                   id          handle  \\\n",
       "0  780925634159796224  HillaryClinton   \n",
       "\n",
       "                                                text is_retweet  \\\n",
       "0  The question in this election: Who can put the...      False   \n",
       "\n",
       "  original_author                 time in_reply_to_screen_name  \\\n",
       "0             NaN  2016-09-28T00:22:34                     NaN   \n",
       "\n",
       "   in_reply_to_status_id  in_reply_to_user_id is_quote_status  \\\n",
       "0                    NaN                  NaN           False   \n",
       "\n",
       "                         ...                         place_type  \\\n",
       "0                        ...                                NaN   \n",
       "\n",
       "   place_country_code  place_country  place_contained_within  \\\n",
       "0                 NaN            NaN                     NaN   \n",
       "\n",
       "   place_attributes place_bounding_box                  source_url truncated  \\\n",
       "0               NaN                NaN  https://studio.twitter.com     False   \n",
       "\n",
       "                                            entities  \\\n",
       "0  {'media': [{'display_url': 'pic.twitter.com/Xr...   \n",
       "\n",
       "                                   extended_entities  \n",
       "0  {'media': [{'display_url': 'pic.twitter.com/Xr...  \n",
       "\n",
       "[1 rows x 28 columns]"
      ]
     },
     "execution_count": 49,
     "metadata": {},
     "output_type": "execute_result"
    }
   ],
   "source": [
    "tweets.head(1)"
   ]
  },
  {
   "cell_type": "code",
   "execution_count": 50,
   "metadata": {
    "collapsed": true
   },
   "outputs": [],
   "source": [
    "twr = tweets[tweets['is_retweet'] == False]\n",
    "twr = twr[['handle', 'text', 'time']]\n",
    "twr['is_trump'] = twr['handle'].apply(lambda x: 1 if x==\"realDonaldTrump\" else 0)"
   ]
  },
  {
   "cell_type": "code",
   "execution_count": 51,
   "metadata": {},
   "outputs": [
    {
     "data": {
      "text/html": [
       "<div>\n",
       "<table border=\"1\" class=\"dataframe\">\n",
       "  <thead>\n",
       "    <tr style=\"text-align: right;\">\n",
       "      <th></th>\n",
       "      <th>handle</th>\n",
       "      <th>text</th>\n",
       "      <th>time</th>\n",
       "      <th>is_trump</th>\n",
       "    </tr>\n",
       "  </thead>\n",
       "  <tbody>\n",
       "    <tr>\n",
       "      <th>0</th>\n",
       "      <td>HillaryClinton</td>\n",
       "      <td>The question in this election: Who can put the...</td>\n",
       "      <td>2016-09-28T00:22:34</td>\n",
       "      <td>0</td>\n",
       "    </tr>\n",
       "    <tr>\n",
       "      <th>3</th>\n",
       "      <td>HillaryClinton</td>\n",
       "      <td>If we stand together, there's nothing we can't...</td>\n",
       "      <td>2016-09-27T23:08:41</td>\n",
       "      <td>0</td>\n",
       "    </tr>\n",
       "  </tbody>\n",
       "</table>\n",
       "</div>"
      ],
      "text/plain": [
       "           handle                                               text  \\\n",
       "0  HillaryClinton  The question in this election: Who can put the...   \n",
       "3  HillaryClinton  If we stand together, there's nothing we can't...   \n",
       "\n",
       "                  time  is_trump  \n",
       "0  2016-09-28T00:22:34         0  \n",
       "3  2016-09-27T23:08:41         0  "
      ]
     },
     "execution_count": 51,
     "metadata": {},
     "output_type": "execute_result"
    }
   ],
   "source": [
    "twr.head(2)"
   ]
  },
  {
   "cell_type": "markdown",
   "metadata": {},
   "source": [
    "# Preprocessing: punctuation, stopwords, stemming"
   ]
  },
  {
   "cell_type": "code",
   "execution_count": 52,
   "metadata": {
    "collapsed": true
   },
   "outputs": [],
   "source": [
    "stemmer = PorterStemmer()\n",
    "\n",
    "def remove_punctuation(text):\n",
    "    lower = text.lower()\n",
    "    exclude = set(string.punctuation)\n",
    "    return \"\".join(ch for ch in lower if ch not in exclude)\n",
    "\n",
    "def remove_stopwords(x):\n",
    "    lower = x.lower()\n",
    "    split = lower.split(\" \")\n",
    "    final = ''\n",
    "    for i in split:\n",
    "        if i not in stopwords.words('english'):\n",
    "            final += (i + \" \")\n",
    "    return final\n",
    "\n",
    "def split_and_stem(string):\n",
    "    string = string.split(' ')\n",
    "    temp = \"\"\n",
    "    for i in string:\n",
    "        temp += (stemmer.stem(i) + \" \")\n",
    "    return temp"
   ]
  },
  {
   "cell_type": "code",
   "execution_count": 53,
   "metadata": {
    "collapsed": true
   },
   "outputs": [],
   "source": [
    "twr['processed_text'] = twr['text'].apply(remove_punctuation)\n",
    "twr['processed_text'] = twr['processed_text'].apply(remove_stopwords)\n",
    "twr['processed_text'] = twr['processed_text'].apply(split_and_stem)"
   ]
  },
  {
   "cell_type": "code",
   "execution_count": 54,
   "metadata": {},
   "outputs": [
    {
     "data": {
      "text/html": [
       "<div>\n",
       "<table border=\"1\" class=\"dataframe\">\n",
       "  <thead>\n",
       "    <tr style=\"text-align: right;\">\n",
       "      <th></th>\n",
       "      <th>handle</th>\n",
       "      <th>text</th>\n",
       "      <th>time</th>\n",
       "      <th>is_trump</th>\n",
       "      <th>processed_text</th>\n",
       "    </tr>\n",
       "  </thead>\n",
       "  <tbody>\n",
       "    <tr>\n",
       "      <th>0</th>\n",
       "      <td>HillaryClinton</td>\n",
       "      <td>The question in this election: Who can put the...</td>\n",
       "      <td>2016-09-28T00:22:34</td>\n",
       "      <td>0</td>\n",
       "      <td>question elect put plan action make life bette...</td>\n",
       "    </tr>\n",
       "    <tr>\n",
       "      <th>3</th>\n",
       "      <td>HillaryClinton</td>\n",
       "      <td>If we stand together, there's nothing we can't...</td>\n",
       "      <td>2016-09-27T23:08:41</td>\n",
       "      <td>0</td>\n",
       "      <td>stand togeth there noth cant \\n\\nmake sure you...</td>\n",
       "    </tr>\n",
       "  </tbody>\n",
       "</table>\n",
       "</div>"
      ],
      "text/plain": [
       "           handle                                               text  \\\n",
       "0  HillaryClinton  The question in this election: Who can put the...   \n",
       "3  HillaryClinton  If we stand together, there's nothing we can't...   \n",
       "\n",
       "                  time  is_trump  \\\n",
       "0  2016-09-28T00:22:34         0   \n",
       "3  2016-09-27T23:08:41         0   \n",
       "\n",
       "                                      processed_text  \n",
       "0  question elect put plan action make life bette...  \n",
       "3  stand togeth there noth cant \\n\\nmake sure you...  "
      ]
     },
     "execution_count": 54,
     "metadata": {},
     "output_type": "execute_result"
    }
   ],
   "source": [
    "twr.head(2)"
   ]
  },
  {
   "cell_type": "markdown",
   "metadata": {},
   "source": [
    "## Defining, x + y, TTS"
   ]
  },
  {
   "cell_type": "code",
   "execution_count": 55,
   "metadata": {
    "collapsed": true
   },
   "outputs": [],
   "source": [
    "x = twr['processed_text']\n",
    "y = twr['is_trump']\n",
    "x_train, x_test, y_train, y_test = train_test_split(x,y)"
   ]
  },
  {
   "cell_type": "code",
   "execution_count": 56,
   "metadata": {},
   "outputs": [
    {
     "data": {
      "text/plain": [
       "0    question elect put plan action make life bette...\n",
       "3    stand togeth there noth cant \\n\\nmake sure you...\n",
       "4    candid ask theyd confront racial injustic one ...\n",
       "5    join 3pm ralli  tomorrow midamerica center cou...\n",
       "6    elect import sit go httpstcottgeqxnqym make su...\n",
       "Name: processed_text, dtype: object"
      ]
     },
     "execution_count": 56,
     "metadata": {},
     "output_type": "execute_result"
    }
   ],
   "source": [
    "x.head()"
   ]
  },
  {
   "cell_type": "code",
   "execution_count": 57,
   "metadata": {},
   "outputs": [
    {
     "data": {
      "text/plain": [
       "5585    mjp1370 realdonaldtrump cruz talk hillari time...\n",
       "272                     none us get life alon look lift  \n",
       "1602    crook hillari said loudli world see short circ...\n",
       "6101    thank america\\nmakeamericagreatagain trump2016...\n",
       "960     go\\n\\ntrump perfectli clear intent million imm...\n",
       "Name: processed_text, dtype: object"
      ]
     },
     "execution_count": 57,
     "metadata": {},
     "output_type": "execute_result"
    }
   ],
   "source": [
    "x_train.head()"
   ]
  },
  {
   "cell_type": "markdown",
   "metadata": {},
   "source": [
    "# TF-IDF"
   ]
  },
  {
   "cell_type": "code",
   "execution_count": 58,
   "metadata": {
    "collapsed": true
   },
   "outputs": [],
   "source": [
    "tfidf = TfidfVectorizer()"
   ]
  },
  {
   "cell_type": "code",
   "execution_count": 59,
   "metadata": {},
   "outputs": [],
   "source": [
    "df_train = pd.DataFrame(tfidf.fit_transform(x_train).todense(), columns=tfidf.get_feature_names())\n",
    "df_test = pd.DataFrame(tfidf.transform(x_test).todense(), columns=tfidf.get_feature_names())"
   ]
  },
  {
   "cell_type": "markdown",
   "metadata": {},
   "source": [
    "# Modeling"
   ]
  },
  {
   "cell_type": "code",
   "execution_count": 60,
   "metadata": {
    "collapsed": true
   },
   "outputs": [],
   "source": [
    "def run_model(x_train, y_train, x_test, y_test, model):\n",
    "    model.fit(x_train, y_train)\n",
    "    print \"Base model score: \" + str(np.mean(y_test))[:6]\n",
    "    print \"Training set score: \", str(model.score(x_train, y_train))[:6]\n",
    "    print \"Test set score: \", str(model.score(x_test, y_test))[:6]\n",
    "    predictions = model.predict(x_test)\n",
    "    print \"\\nConfusion Matrix:\\n\", pd.DataFrame(confusion_matrix(y_test, predictions), \n",
    "                                              columns=['predicted_0', 'predicted_1'], index=['is_0', 'is_1'])\n",
    "    print \"\\nClassification Report:\\n\",classification_report(y_test, predictions)"
   ]
  },
  {
   "cell_type": "code",
   "execution_count": 61,
   "metadata": {
    "collapsed": true
   },
   "outputs": [],
   "source": [
    "rf = RandomForestClassifier(min_samples_leaf=3)\n",
    "et = ExtraTreesClassifier(min_samples_leaf=2)\n",
    "ad = AdaBoostClassifier()\n",
    "lin = LinearSVC()"
   ]
  },
  {
   "cell_type": "code",
   "execution_count": 62,
   "metadata": {},
   "outputs": [
    {
     "name": "stdout",
     "output_type": "stream",
     "text": [
      "Base model score: 0.5457\n",
      "Training set score:  0.9212\n",
      "Test set score:  0.8832\n",
      "\n",
      "Confusion Matrix:\n",
      "      predicted_0  predicted_1\n",
      "is_0          586           64\n",
      "is_1          103          678\n",
      "\n",
      "Classification Report:\n",
      "             precision    recall  f1-score   support\n",
      "\n",
      "          0       0.85      0.90      0.88       650\n",
      "          1       0.91      0.87      0.89       781\n",
      "\n",
      "avg / total       0.89      0.88      0.88      1431\n",
      "\n"
     ]
    }
   ],
   "source": [
    "run_model(df_train, y_train, df_test, y_test, rf)"
   ]
  },
  {
   "cell_type": "code",
   "execution_count": 63,
   "metadata": {
    "scrolled": true
   },
   "outputs": [
    {
     "name": "stdout",
     "output_type": "stream",
     "text": [
      "Base model score: 0.5457\n",
      "Training set score:  0.9510\n",
      "Test set score:  0.8979\n",
      "\n",
      "Confusion Matrix:\n",
      "      predicted_0  predicted_1\n",
      "is_0          590           60\n",
      "is_1           86          695\n",
      "\n",
      "Classification Report:\n",
      "             precision    recall  f1-score   support\n",
      "\n",
      "          0       0.87      0.91      0.89       650\n",
      "          1       0.92      0.89      0.90       781\n",
      "\n",
      "avg / total       0.90      0.90      0.90      1431\n",
      "\n"
     ]
    }
   ],
   "source": [
    "run_model(df_train, y_train, df_test, y_test, et)"
   ]
  },
  {
   "cell_type": "code",
   "execution_count": 64,
   "metadata": {},
   "outputs": [
    {
     "name": "stdout",
     "output_type": "stream",
     "text": [
      "Base model score: 0.5457\n",
      "Training set score:  0.9990\n",
      "Test set score:  0.9231\n",
      "\n",
      "Confusion Matrix:\n",
      "      predicted_0  predicted_1\n",
      "is_0          592           58\n",
      "is_1           52          729\n",
      "\n",
      "Classification Report:\n",
      "             precision    recall  f1-score   support\n",
      "\n",
      "          0       0.92      0.91      0.91       650\n",
      "          1       0.93      0.93      0.93       781\n",
      "\n",
      "avg / total       0.92      0.92      0.92      1431\n",
      "\n"
     ]
    }
   ],
   "source": [
    "run_model(df_train, y_train, df_test, y_test, lin)"
   ]
  },
  {
   "cell_type": "code",
   "execution_count": 65,
   "metadata": {},
   "outputs": [],
   "source": [
    "# run_model(df_train, y_train, df_test, y_test, ad)"
   ]
  },
  {
   "cell_type": "code",
   "execution_count": null,
   "metadata": {
    "collapsed": true
   },
   "outputs": [],
   "source": []
  }
 ],
 "metadata": {
  "anaconda-cloud": {},
  "kernelspec": {
   "display_name": "Python [Root]",
   "language": "python",
   "name": "Python [Root]"
  },
  "language_info": {
   "codemirror_mode": {
    "name": "ipython",
    "version": 2
   },
   "file_extension": ".py",
   "mimetype": "text/x-python",
   "name": "python",
   "nbconvert_exporter": "python",
   "pygments_lexer": "ipython2",
   "version": "2.7.12"
  }
 },
 "nbformat": 4,
 "nbformat_minor": 2
}
