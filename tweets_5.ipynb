{
 "cells": [
  {
   "cell_type": "code",
   "execution_count": 20,
   "metadata": {},
   "outputs": [],
   "source": [
    "import pandas as pd\n",
    "import numpy as np\n",
    "import string\n",
    "from nltk.corpus import stopwords\n",
    "from sklearn.model_selection import train_test_split \n",
    "from sklearn.feature_extraction.text import CountVectorizer\n",
    "from sklearn.neural_network import MLPClassifier\n",
    "from sklearn.ensemble import RandomForestClassifier\n",
    "from sklearn.model_selection import GridSearchCV\n",
    "from sklearn.metrics import confusion_matrix, classification_report\n",
    "from sklearn.preprocessing import StandardScaler\n",
    "from nltk.stem import PorterStemmer\n",
    "from sklearn.feature_extraction.text import TfidfVectorizer\n",
    "from datetime import datetime\n",
    "import os"
   ]
  },
  {
   "cell_type": "code",
   "execution_count": 3,
   "metadata": {
    "collapsed": true
   },
   "outputs": [],
   "source": [
    "tweets = pd.read_csv('~/Datasets/tweets.csv', encoding='utf-8')"
   ]
  },
  {
   "cell_type": "code",
   "execution_count": 4,
   "metadata": {
    "collapsed": true
   },
   "outputs": [],
   "source": [
    "twr = tweets[tweets['is_retweet'] == False]\n",
    "twr = twr[['handle', 'text', 'time']]\n",
    "twr['is_trump'] = twr['handle'].apply(lambda x: 1 if x==\"realDonaldTrump\" else 0)"
   ]
  },
  {
   "cell_type": "markdown",
   "metadata": {},
   "source": [
    "# Preprocessing: punctuation, stopwords, stemming\n"
   ]
  },
  {
   "cell_type": "code",
   "execution_count": 5,
   "metadata": {
    "collapsed": true
   },
   "outputs": [],
   "source": [
    "stemmer = PorterStemmer()\n",
    "\n",
    "def remove_punctuation(text):\n",
    "    lower = text.lower()\n",
    "    exclude = set(string.punctuation)\n",
    "    return \"\".join(ch for ch in lower if ch not in exclude)\n",
    "\n",
    "def remove_stopwords(x):\n",
    "    lower = x.lower()\n",
    "    split = lower.split(\" \")\n",
    "    final = ''\n",
    "    for i in split:\n",
    "        if i not in stopwords.words('english'):\n",
    "            final += (i + \" \")\n",
    "    return final\n",
    "\n",
    "def split_and_stem(string):\n",
    "    string = string.split(' ')\n",
    "    temp = \"\"\n",
    "    for i in string:\n",
    "        temp += (stemmer.stem(i) + \" \")\n",
    "    return temp"
   ]
  },
  {
   "cell_type": "code",
   "execution_count": 6,
   "metadata": {
    "collapsed": true
   },
   "outputs": [],
   "source": [
    "## remove punctuation and stopwords, apply stemmer\n",
    "\n",
    "twr['processed_text'] = twr['text'].apply(remove_punctuation)\n",
    "twr['processed_text'] = twr['processed_text'].apply(remove_stopwords)\n",
    "twr['processed_text'] = twr['processed_text'].apply(split_and_stem)"
   ]
  },
  {
   "cell_type": "markdown",
   "metadata": {},
   "source": [
    "# Defining x and y"
   ]
  },
  {
   "cell_type": "code",
   "execution_count": 7,
   "metadata": {
    "collapsed": true
   },
   "outputs": [],
   "source": [
    "x = twr[['processed_text']]\n",
    "y = twr['is_trump']\n",
    "x_train, x_test, y_train, y_test = train_test_split(x,y)"
   ]
  },
  {
   "cell_type": "markdown",
   "metadata": {},
   "source": [
    "# Additional Preprocessing"
   ]
  },
  {
   "cell_type": "code",
   "execution_count": 8,
   "metadata": {
    "collapsed": true
   },
   "outputs": [],
   "source": [
    "## TFIDF \n",
    "\n",
    "tfidf = TfidfVectorizer()\n",
    "\n",
    "df_train = pd.DataFrame(tfidf.fit_transform(x_train['processed_text']).todense(), columns=tfidf.get_feature_names())\n",
    "df_test = pd.DataFrame(tfidf.transform(x_test['processed_text']).todense(), columns=tfidf.get_feature_names())\n",
    "\n"
   ]
  },
  {
   "cell_type": "code",
   "execution_count": 9,
   "metadata": {},
   "outputs": [],
   "source": [
    "## standardizing data\n",
    "\n",
    "scaler = StandardScaler()\n",
    "\n",
    "df_train = scaler.fit_transform(df_train)\n",
    "df_test = scaler.transform(df_test)"
   ]
  },
  {
   "cell_type": "code",
   "execution_count": null,
   "metadata": {},
   "outputs": [],
   "source": [
    "df_train[:5]"
   ]
  },
  {
   "cell_type": "markdown",
   "metadata": {},
   "source": [
    "# Modeling"
   ]
  },
  {
   "cell_type": "code",
   "execution_count": 10,
   "metadata": {
    "collapsed": true
   },
   "outputs": [],
   "source": [
    "def run_model(x_train, y_train, x_test, y_test, model):\n",
    "    model.fit(x_train, y_train)\n",
    "    print \"Base model score: \" + str(np.mean(y_test))[:6]\n",
    "    print \"Training set score: \", str(model.score(x_train, y_train))[:6]\n",
    "    print \"Test set score: \", str(model.score(x_test, y_test))[:6]\n",
    "    predictions = model.predict(x_test)\n",
    "    print \"\\nConfusion Matrix:\\n\", pd.DataFrame(confusion_matrix(y_test, predictions), \n",
    "                                              columns=['predicted_0', 'predicted_1'], index=['is_0', 'is_1'])\n",
    "    print \"\\nClassification Report:\\n\",classification_report(y_test, predictions)"
   ]
  },
  {
   "cell_type": "code",
   "execution_count": 11,
   "metadata": {
    "collapsed": true
   },
   "outputs": [],
   "source": [
    "rf = RandomForestClassifier(min_samples_leaf=5)"
   ]
  },
  {
   "cell_type": "code",
   "execution_count": 21,
   "metadata": {
    "collapsed": true
   },
   "outputs": [],
   "source": [
    "mlp_1 = MLPClassifier(max_iter = 50)\n",
    "mlp_2 = MLPClassifier(max_iter = 100)\n",
    "mlp_3 = MLPClassifier(max_iter = 200)\n",
    "mlp_4 = MLPClassifier(max_iter = 400)"
   ]
  },
  {
   "cell_type": "code",
   "execution_count": 22,
   "metadata": {
    "scrolled": false
   },
   "outputs": [
    {
     "name": "stdout",
     "output_type": "stream",
     "text": [
      "Model:  RandomForestClassifier\n",
      "Hyperparameters: bootstrap=True, class_weight=None, criterion='gini',\n",
      "            max_depth=None, max_features='auto', max_leaf_nodes=None,\n",
      "            min_impurity_split=1e-07, min_samples_leaf=5,\n",
      "            min_samples_split=2, min_weight_fraction_leaf=0.0,\n",
      "            n_estimators=10, n_jobs=1, oob_score=False, random_state=None,\n",
      "            verbose=0, warm_start=False\n",
      "Base model score: 0.5590\n",
      "Training set score:  0.8976\n",
      "Test set score:  0.8609\n",
      "\n",
      "Confusion Matrix:\n",
      "      predicted_0  predicted_1\n",
      "is_0          560           71\n",
      "is_1          128          672\n",
      "\n",
      "Classification Report:\n",
      "             precision    recall  f1-score   support\n",
      "\n",
      "          0       0.81      0.89      0.85       631\n",
      "          1       0.90      0.84      0.87       800\n",
      "\n",
      "avg / total       0.86      0.86      0.86      1431\n",
      "\n",
      "\n",
      "\n",
      "Model:  MLPClassifier\n",
      "Hyperparameters: activation='relu', alpha=0.0001, batch_size='auto', beta_1=0.9,\n",
      "       beta_2=0.999, early_stopping=False, epsilon=1e-08,\n",
      "       hidden_layer_sizes=(100,), learning_rate='constant',\n",
      "       learning_rate_init=0.001, max_iter=50, momentum=0.9,\n",
      "       nesterovs_momentum=True, power_t=0.5, random_state=None,\n",
      "       shuffle=True, solver='adam', tol=0.0001, validation_fraction=0.1,\n",
      "       verbose=False, warm_start=False\n",
      "Base model score: 0.5590\n",
      "Training set score:  1.0\n",
      "Test set score:  0.8819\n",
      "\n",
      "Confusion Matrix:\n",
      "      predicted_0  predicted_1\n",
      "is_0          500          131\n",
      "is_1           38          762\n",
      "\n",
      "Classification Report:\n",
      "             precision    recall  f1-score   support\n",
      "\n",
      "          0       0.93      0.79      0.86       631\n",
      "          1       0.85      0.95      0.90       800\n",
      "\n",
      "avg / total       0.89      0.88      0.88      1431\n",
      "\n",
      "\n",
      "\n",
      "Model:  MLPClassifier\n",
      "Hyperparameters: activation='relu', alpha=0.0001, batch_size='auto', beta_1=0.9,\n",
      "       beta_2=0.999, early_stopping=False, epsilon=1e-08,\n",
      "       hidden_layer_sizes=(100,), learning_rate='constant',\n",
      "       learning_rate_init=0.001, max_iter=100, momentum=0.9,\n",
      "       nesterovs_momentum=True, power_t=0.5, random_state=None,\n",
      "       shuffle=True, solver='adam', tol=0.0001, validation_fraction=0.1,\n",
      "       verbose=False, warm_start=False\n",
      "Base model score: 0.5590\n",
      "Training set score:  1.0\n",
      "Test set score:  0.9049\n",
      "\n",
      "Confusion Matrix:\n",
      "      predicted_0  predicted_1\n",
      "is_0          573           58\n",
      "is_1           78          722\n",
      "\n",
      "Classification Report:\n",
      "             precision    recall  f1-score   support\n",
      "\n",
      "          0       0.88      0.91      0.89       631\n",
      "          1       0.93      0.90      0.91       800\n",
      "\n",
      "avg / total       0.91      0.90      0.91      1431\n",
      "\n",
      "\n",
      "\n",
      "Model:  MLPClassifier\n",
      "Hyperparameters: activation='relu', alpha=0.0001, batch_size='auto', beta_1=0.9,\n",
      "       beta_2=0.999, early_stopping=False, epsilon=1e-08,\n",
      "       hidden_layer_sizes=(100,), learning_rate='constant',\n",
      "       learning_rate_init=0.001, max_iter=200, momentum=0.9,\n",
      "       nesterovs_momentum=True, power_t=0.5, random_state=None,\n",
      "       shuffle=True, solver='adam', tol=0.0001, validation_fraction=0.1,\n",
      "       verbose=False, warm_start=False\n",
      "Base model score: 0.5590\n",
      "Training set score:  1.0\n",
      "Test set score:  0.8616\n",
      "\n",
      "Confusion Matrix:\n",
      "      predicted_0  predicted_1\n",
      "is_0          473          158\n",
      "is_1           40          760\n",
      "\n",
      "Classification Report:\n",
      "             precision    recall  f1-score   support\n",
      "\n",
      "          0       0.92      0.75      0.83       631\n",
      "          1       0.83      0.95      0.88       800\n",
      "\n",
      "avg / total       0.87      0.86      0.86      1431\n",
      "\n",
      "\n",
      "\n",
      "Model:  MLPClassifier\n",
      "Hyperparameters: activation='relu', alpha=0.0001, batch_size='auto', beta_1=0.9,\n",
      "       beta_2=0.999, early_stopping=False, epsilon=1e-08,\n",
      "       hidden_layer_sizes=(100,), learning_rate='constant',\n",
      "       learning_rate_init=0.001, max_iter=400, momentum=0.9,\n",
      "       nesterovs_momentum=True, power_t=0.5, random_state=None,\n",
      "       shuffle=True, solver='adam', tol=0.0001, validation_fraction=0.1,\n",
      "       verbose=False, warm_start=False\n",
      "Base model score: 0.5590\n",
      "Training set score:  1.0\n",
      "Test set score:  0.8791\n",
      "\n",
      "Confusion Matrix:\n",
      "      predicted_0  predicted_1\n",
      "is_0          499          132\n",
      "is_1           41          759\n",
      "\n",
      "Classification Report:\n",
      "             precision    recall  f1-score   support\n",
      "\n",
      "          0       0.92      0.79      0.85       631\n",
      "          1       0.85      0.95      0.90       800\n",
      "\n",
      "avg / total       0.88      0.88      0.88      1431\n",
      "\n",
      "\n",
      "\n"
     ]
    },
    {
     "data": {
      "text/plain": [
       "0"
      ]
     },
     "execution_count": 22,
     "metadata": {},
     "output_type": "execute_result"
    }
   ],
   "source": [
    "models = [rf, mlp_1, mlp_2, mlp_3, mlp_4]\n",
    "for model in models:\n",
    "    print \"Model: \", str(model).split(\"(\")[0]\n",
    "    print \"Hyperparameters: \" + str(model)[len(str(model).split(\"(\")[0])+1:-1]\n",
    "    run_model(df_train, y_train, df_test, y_test, model)\n",
    "    print \"\\n\"\n",
    "os.system(\"say model is done\")"
   ]
  },
  {
   "cell_type": "code",
   "execution_count": null,
   "metadata": {
    "collapsed": true
   },
   "outputs": [],
   "source": [
    "params = {'activation': ['tanh', 'logistic', 'relu', 'identity'],\n",
    "         'max_iter': [50, 100, 200, 400]}"
   ]
  },
  {
   "cell_type": "code",
   "execution_count": null,
   "metadata": {
    "collapsed": true
   },
   "outputs": [],
   "source": [
    "gs = GridSearchCV(mlp_1, cv=5, params = params)"
   ]
  }
 ],
 "metadata": {
  "anaconda-cloud": {},
  "kernelspec": {
   "display_name": "Python [Root]",
   "language": "python",
   "name": "Python [Root]"
  },
  "language_info": {
   "codemirror_mode": {
    "name": "ipython",
    "version": 2
   },
   "file_extension": ".py",
   "mimetype": "text/x-python",
   "name": "python",
   "nbconvert_exporter": "python",
   "pygments_lexer": "ipython2",
   "version": "2.7.12"
  }
 },
 "nbformat": 4,
 "nbformat_minor": 2
}
